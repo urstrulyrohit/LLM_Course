{
 "cells": [
  {
   "metadata": {
    "ExecuteTime": {
     "end_time": "2024-07-09T04:29:21.734740Z",
     "start_time": "2024-07-09T04:29:20.794225Z"
    }
   },
   "cell_type": "code",
   "source": [
    "import numpy as np\n",
    "import pandas as pd\n",
    "from tqdm.auto import tqdm"
   ],
   "id": "19bc9df0e31497a",
   "outputs": [],
   "execution_count": 1
  },
  {
   "metadata": {},
   "cell_type": "markdown",
   "source": "Q1",
   "id": "e683be28094d21dc"
  },
  {
   "cell_type": "code",
   "id": "initial_id",
   "metadata": {
    "collapsed": true,
    "ExecuteTime": {
     "end_time": "2024-07-09T04:29:30.532286Z",
     "start_time": "2024-07-09T04:29:22.961965Z"
    }
   },
   "source": [
    "from sentence_transformers import SentenceTransformer\n",
    "\n",
    "model_name = \"multi-qa-distilbert-cos-v1\"\n",
    "embedding_model = SentenceTransformer(model_name)"
   ],
   "outputs": [],
   "execution_count": 2
  },
  {
   "metadata": {
    "ExecuteTime": {
     "end_time": "2024-07-09T04:29:30.621899Z",
     "start_time": "2024-07-09T04:29:30.536810Z"
    }
   },
   "cell_type": "code",
   "source": [
    "user_question = \"I just discovered the course. Can I still join it?\"\n",
    "text_emb = embedding_model.encode(user_question)\n",
    "text_emb[0]"
   ],
   "id": "63addaa149a078b0",
   "outputs": [
    {
     "data": {
      "text/plain": [
       "0.07822268"
      ]
     },
     "execution_count": 3,
     "metadata": {},
     "output_type": "execute_result"
    }
   ],
   "execution_count": 3
  },
  {
   "metadata": {},
   "cell_type": "markdown",
   "source": "Q2",
   "id": "43d2d443255dc80"
  },
  {
   "metadata": {
    "ExecuteTime": {
     "end_time": "2024-07-09T04:29:34.572720Z",
     "start_time": "2024-07-09T04:29:33.463509Z"
    }
   },
   "cell_type": "code",
   "source": [
    "import requests \n",
    "\n",
    "base_url = 'https://github.com/DataTalksClub/llm-zoomcamp/blob/main'\n",
    "relative_url = '03-vector-search/eval/documents-with-ids.json'\n",
    "docs_url = f'{base_url}/{relative_url}?raw=1'\n",
    "docs_response = requests.get(docs_url)\n",
    "documents = docs_response.json()\n",
    "\n",
    "documents = list(filter(lambda doc: doc['course'] == 'machine-learning-zoomcamp', documents))\n",
    "print(len(documents))"
   ],
   "id": "b9618d63b3c8ed1e",
   "outputs": [
    {
     "name": "stdout",
     "output_type": "stream",
     "text": [
      "375\n"
     ]
    }
   ],
   "execution_count": 4
  },
  {
   "metadata": {
    "ExecuteTime": {
     "end_time": "2024-07-09T04:30:02.590079Z",
     "start_time": "2024-07-09T04:29:35.349841Z"
    }
   },
   "cell_type": "code",
   "source": [
    "embeddings = []\n",
    "for document in tqdm(documents):\n",
    "    question = document['question']\n",
    "    text = document['text']\n",
    "    qa_text = f'{question} {text}'\n",
    "    embedding = embedding_model.encode(qa_text)\n",
    "    embeddings.append(embedding)"
   ],
   "id": "a60805c0491524cb",
   "outputs": [
    {
     "data": {
      "text/plain": [
       "  0%|          | 0/375 [00:00<?, ?it/s]"
      ],
      "application/vnd.jupyter.widget-view+json": {
       "version_major": 2,
       "version_minor": 0,
       "model_id": "a878b0c538c94b61b711269c9472fe73"
      }
     },
     "metadata": {},
     "output_type": "display_data"
    }
   ],
   "execution_count": 5
  },
  {
   "metadata": {
    "ExecuteTime": {
     "end_time": "2024-07-09T04:30:05.131760Z",
     "start_time": "2024-07-09T04:30:05.126568Z"
    }
   },
   "cell_type": "code",
   "source": [
    "X = np.array(embeddings)\n",
    "print(X.shape)"
   ],
   "id": "180bf0b3fa08a004",
   "outputs": [
    {
     "name": "stdout",
     "output_type": "stream",
     "text": [
      "(375, 768)\n"
     ]
    }
   ],
   "execution_count": 6
  },
  {
   "metadata": {},
   "cell_type": "markdown",
   "source": "Q3",
   "id": "be18456bc2b9ccec"
  },
  {
   "metadata": {
    "ExecuteTime": {
     "end_time": "2024-07-09T04:30:06.415342Z",
     "start_time": "2024-07-09T04:30:06.409517Z"
    }
   },
   "cell_type": "code",
   "source": [
    "scores = X.dot(text_emb)\n",
    "print(np.max(scores, axis=0))"
   ],
   "id": "e1cb4665de2a4687",
   "outputs": [
    {
     "name": "stdout",
     "output_type": "stream",
     "text": [
      "0.6506573\n"
     ]
    }
   ],
   "execution_count": 7
  },
  {
   "metadata": {},
   "cell_type": "markdown",
   "source": "Q4",
   "id": "1594f1c648625115"
  },
  {
   "metadata": {
    "ExecuteTime": {
     "end_time": "2024-07-09T04:30:09.928458Z",
     "start_time": "2024-07-09T04:30:09.923263Z"
    }
   },
   "cell_type": "code",
   "source": [
    "class VectorSearchEngine:\n",
    "    def __init__(self, _documents, _embeddings):\n",
    "        self.documents = _documents\n",
    "        self.embeddings = _embeddings\n",
    "\n",
    "    def search(self, v_query, num_results=10):\n",
    "        _scores = self.embeddings.dot(v_query)\n",
    "        idx = np.argsort(-_scores)[:num_results]\n",
    "        return [self.documents[i] for i in idx]\n",
    "    \n",
    "search_engine = VectorSearchEngine(_documents=documents, _embeddings=X)"
   ],
   "id": "981a67968dda8481",
   "outputs": [],
   "execution_count": 8
  },
  {
   "metadata": {
    "ExecuteTime": {
     "end_time": "2024-07-09T04:30:10.877706Z",
     "start_time": "2024-07-09T04:30:10.873450Z"
    }
   },
   "cell_type": "code",
   "source": "search_results = search_engine.search(text_emb, num_results=5)",
   "id": "37caefc13a1468af",
   "outputs": [],
   "execution_count": 9
  },
  {
   "metadata": {
    "ExecuteTime": {
     "end_time": "2024-07-09T04:30:12.436070Z",
     "start_time": "2024-07-09T04:30:11.243415Z"
    }
   },
   "cell_type": "code",
   "source": [
    "base_url = 'https://github.com/DataTalksClub/llm-zoomcamp/blob/main'\n",
    "relative_url = '03-vector-search/eval/ground-truth-data.csv'\n",
    "ground_truth_url = f'{base_url}/{relative_url}?raw=1'\n",
    "\n",
    "df_ground_truth = pd.read_csv(ground_truth_url)\n",
    "df_ground_truth = df_ground_truth[df_ground_truth.course == 'machine-learning-zoomcamp']\n",
    "ground_truth = df_ground_truth.to_dict(orient='records')"
   ],
   "id": "2a797d6db1abe64e",
   "outputs": [],
   "execution_count": 10
  },
  {
   "metadata": {
    "ExecuteTime": {
     "end_time": "2024-07-09T04:30:12.443458Z",
     "start_time": "2024-07-09T04:30:12.439240Z"
    }
   },
   "cell_type": "code",
   "source": [
    "def hit_rate(relevance_total):\n",
    "    cnt = 0\n",
    "\n",
    "    for line in relevance_total:\n",
    "        if True in line:\n",
    "            cnt = cnt + 1\n",
    "\n",
    "    return cnt / len(relevance_total)"
   ],
   "id": "80f39e6266fee9f1",
   "outputs": [],
   "execution_count": 11
  },
  {
   "metadata": {
    "ExecuteTime": {
     "end_time": "2024-07-09T04:30:12.450688Z",
     "start_time": "2024-07-09T04:30:12.446074Z"
    }
   },
   "cell_type": "code",
   "source": [
    "def mrr(relevance_total):\n",
    "    total_score = 0.0\n",
    "\n",
    "    for line in relevance_total:\n",
    "        for rank in range(len(line)):\n",
    "            if line[rank]:\n",
    "                total_score = total_score + 1 / (rank + 1)\n",
    "\n",
    "    return total_score / len(relevance_total)"
   ],
   "id": "1a4ac9c3061a6fb6",
   "outputs": [],
   "execution_count": 12
  },
  {
   "metadata": {
    "ExecuteTime": {
     "end_time": "2024-07-09T04:30:13.145392Z",
     "start_time": "2024-07-09T04:30:13.140086Z"
    }
   },
   "cell_type": "code",
   "source": [
    "def evaluate(_ground_truth, search_function):\n",
    "    relevance_total = []\n",
    "\n",
    "    for q in tqdm(_ground_truth):\n",
    "        doc_id = q['document']\n",
    "        results = search_function(q)\n",
    "        relevance = [d['id'] == doc_id for d in results]\n",
    "        relevance_total.append(relevance)\n",
    "\n",
    "    return {\n",
    "        'hit_rate': hit_rate(relevance_total),\n",
    "        'mrr': mrr(relevance_total),\n",
    "    }"
   ],
   "id": "9bfef975fa72c279",
   "outputs": [],
   "execution_count": 13
  },
  {
   "metadata": {
    "ExecuteTime": {
     "end_time": "2024-07-09T04:30:13.520051Z",
     "start_time": "2024-07-09T04:30:13.515896Z"
    }
   },
   "cell_type": "code",
   "source": [
    "def custom_vector_search(q):\n",
    "    v_q = embedding_model.encode(q['question'])\n",
    "\n",
    "    return search_engine.search(v_q, num_results=5)"
   ],
   "id": "4b50a9840123dacc",
   "outputs": [],
   "execution_count": 14
  },
  {
   "metadata": {
    "ExecuteTime": {
     "end_time": "2024-07-09T04:31:03.518226Z",
     "start_time": "2024-07-09T04:30:14.123526Z"
    }
   },
   "cell_type": "code",
   "source": "print(evaluate(ground_truth, custom_vector_search))",
   "id": "b19e9d5d320d2c04",
   "outputs": [
    {
     "data": {
      "text/plain": [
       "  0%|          | 0/1830 [00:00<?, ?it/s]"
      ],
      "application/vnd.jupyter.widget-view+json": {
       "version_major": 2,
       "version_minor": 0,
       "model_id": "14e76fdbcf4f470b89caa7ff8135f329"
      }
     },
     "metadata": {},
     "output_type": "display_data"
    },
    {
     "name": "stdout",
     "output_type": "stream",
     "text": [
      "{'hit_rate': 0.9398907103825137, 'mrr': 0.8516484517304189}\n"
     ]
    }
   ],
   "execution_count": 15
  },
  {
   "metadata": {},
   "cell_type": "markdown",
   "source": "Q5",
   "id": "7426f256a46ea15d"
  },
  {
   "metadata": {
    "ExecuteTime": {
     "end_time": "2024-07-09T04:31:36.954346Z",
     "start_time": "2024-07-09T04:31:35.936931Z"
    }
   },
   "cell_type": "code",
   "source": [
    "from elasticsearch import Elasticsearch\n",
    "\n",
    "es_client = Elasticsearch('http://localhost:9200') \n",
    "es_client.ping()"
   ],
   "id": "6fad168c26253644",
   "outputs": [
    {
     "data": {
      "text/plain": [
       "True"
      ]
     },
     "execution_count": 16,
     "metadata": {},
     "output_type": "execute_result"
    }
   ],
   "execution_count": 16
  },
  {
   "metadata": {
    "ExecuteTime": {
     "end_time": "2024-07-09T04:31:38.978433Z",
     "start_time": "2024-07-09T04:31:37.996595Z"
    }
   },
   "cell_type": "code",
   "source": [
    "index_settings = {\n",
    "    \"settings\": {\n",
    "        \"number_of_shards\": 1,\n",
    "        \"number_of_replicas\": 0\n",
    "    },\n",
    "    \"mappings\": {\n",
    "        \"properties\": {\n",
    "            \"text\": {\"type\": \"text\"},\n",
    "            \"section\": {\"type\": \"text\"},\n",
    "            \"question\": {\"type\": \"text\"},\n",
    "            \"course\": {\"type\": \"keyword\"},\n",
    "            \"id\": {\"type\": \"keyword\"},\n",
    "            \"vector\": {\n",
    "                \"type\": \"dense_vector\",\n",
    "                \"dims\": 768,\n",
    "                \"index\": True,\n",
    "                \"similarity\": \"cosine\"\n",
    "            },\n",
    "        }\n",
    "    }\n",
    "}\n",
    "\n",
    "index_name = \"course-questions\"\n",
    "\n",
    "es_client.indices.delete(index=index_name, ignore_unavailable=True)\n",
    "es_client.indices.create(index=index_name, body=index_settings)"
   ],
   "id": "64aebdb9875661fb",
   "outputs": [
    {
     "name": "stderr",
     "output_type": "stream",
     "text": [
      "/var/folders/py/hx_rr7lj0yj98b1zv61tqlkm0000gn/T/ipykernel_61514/505606794.py:26: DeprecationWarning: The 'body' parameter is deprecated and will be removed in a future version. Instead use individual parameters.\n",
      "  es_client.indices.create(index=index_name, body=index_settings)\n"
     ]
    },
    {
     "data": {
      "text/plain": [
       "ObjectApiResponse({'acknowledged': True, 'shards_acknowledged': True, 'index': 'course-questions'})"
      ]
     },
     "execution_count": 17,
     "metadata": {},
     "output_type": "execute_result"
    }
   ],
   "execution_count": 17
  },
  {
   "metadata": {
    "ExecuteTime": {
     "end_time": "2024-07-09T04:31:39.869093Z",
     "start_time": "2024-07-09T04:31:39.865036Z"
    }
   },
   "cell_type": "code",
   "source": [
    "for idx, doc in enumerate(documents):\n",
    "    doc['vector'] = embeddings[idx]"
   ],
   "id": "1a28b2ebe52bbba2",
   "outputs": [],
   "execution_count": 18
  },
  {
   "metadata": {
    "ExecuteTime": {
     "end_time": "2024-07-09T04:31:43.597543Z",
     "start_time": "2024-07-09T04:31:40.741235Z"
    }
   },
   "cell_type": "code",
   "source": [
    "for doc in tqdm(documents):\n",
    "    es_client.index(index=index_name, document=doc)"
   ],
   "id": "6861b857d541ec26",
   "outputs": [
    {
     "data": {
      "text/plain": [
       "  0%|          | 0/375 [00:00<?, ?it/s]"
      ],
      "application/vnd.jupyter.widget-view+json": {
       "version_major": 2,
       "version_minor": 0,
       "model_id": "57c051df4b3241ca8df955ecb04a19fc"
      }
     },
     "metadata": {},
     "output_type": "display_data"
    }
   ],
   "execution_count": 19
  },
  {
   "metadata": {
    "ExecuteTime": {
     "end_time": "2024-07-09T04:31:44.286384Z",
     "start_time": "2024-07-09T04:31:44.280307Z"
    }
   },
   "cell_type": "code",
   "source": [
    "def elastic_search_knn(field, vector):\n",
    "    knn = {\n",
    "        \"field\": field,\n",
    "        \"query_vector\": vector,\n",
    "        \"k\": 5,\n",
    "        \"num_candidates\": 10000\n",
    "    }\n",
    "\n",
    "    es_results = es_client.search(\n",
    "        index=index_name,\n",
    "        knn=knn,\n",
    "        _source=[\"text\", \"section\", \"question\", \"course\", \"id\"]\n",
    "    )\n",
    "    \n",
    "    result_docs = []\n",
    "    \n",
    "    for hit in es_results['hits']['hits']:\n",
    "        hit['_source']['score'] = hit['_score']\n",
    "        result_docs.append(hit['_source'])\n",
    "\n",
    "    return result_docs"
   ],
   "id": "e9db2fc569631918",
   "outputs": [],
   "execution_count": 20
  },
  {
   "metadata": {
    "ExecuteTime": {
     "end_time": "2024-07-09T04:31:47.790580Z",
     "start_time": "2024-07-09T04:31:47.773807Z"
    }
   },
   "cell_type": "code",
   "source": "elastic_search_knn('vector', text_emb)",
   "id": "c01a0baf9dd79954",
   "outputs": [
    {
     "data": {
      "text/plain": [
       "[{'text': 'Yes, you can. You won’t be able to submit some of the homeworks, but you can still take part in the course.\\nIn order to get a certificate, you need to submit 2 out of 3 course projects and review 3 peers’ Projects by the deadline. It means that if you join the course at the end of November and manage to work on two projects, you will still be eligible for a certificate.',\n",
       "  'section': 'General course-related questions',\n",
       "  'question': 'The course has already started. Can I still join it?',\n",
       "  'course': 'machine-learning-zoomcamp',\n",
       "  'id': 'ee58a693',\n",
       "  'score': 0.82532895},\n",
       " {'text': 'Welcome to the course! Go to the course page (http://mlzoomcamp.com/), scroll down and start going through the course materials. Then read everything in the cohort folder for your cohort’s year.\\nClick on the links and start watching the videos. Also watch office hours from previous cohorts. Go to DTC youtube channel and click on Playlists and search for {course yyyy}. ML Zoomcamp was first launched in 2021.\\nOr you can just use this link: http://mlzoomcamp.com/#syllabus',\n",
       "  'section': 'General course-related questions',\n",
       "  'question': 'I just joined. What should I do next? How can I access course materials?',\n",
       "  'course': 'machine-learning-zoomcamp',\n",
       "  'id': '0a278fb2',\n",
       "  'score': 0.7358537},\n",
       " {'text': \"The process is automated now, so you should receive the email eventually. If you haven’t, check your promotions tab in Gmail as well as spam.\\nIf you unsubscribed from our newsletter, you won't get course related updates too.\\nBut don't worry, it’s not a problem. To make sure you don’t miss anything, join the #course-ml-zoomcamp channel in Slack and our telegram channel with announcements. This is enough to follow the course.\",\n",
       "  'section': 'General course-related questions',\n",
       "  'question': \"I filled the form, but haven't received a confirmation email. Is it normal?\",\n",
       "  'course': 'machine-learning-zoomcamp',\n",
       "  'id': '6ba259b1',\n",
       "  'score': 0.72950006},\n",
       " {'text': 'Technically, yes. Advisable? Not really. Reasons:\\nSome homework(s) asks for specific python library versions.\\nAnswers may not match in MCQ options if using different languages other than Python 3.10 (the recommended version for 2023 cohort)\\nAnd as for midterms/capstones, your peer-reviewers may not know these other languages. Do you want to be penalized for others not knowing these other languages?\\nYou can create a separate repo using course’s lessons but written in other languages for your own learnings, but not advisable for submissions.\\ntx[source]',\n",
       "  'section': 'Miscellaneous',\n",
       "  'question': 'Can I do the course in other languages, like R or Scala?',\n",
       "  'course': 'machine-learning-zoomcamp',\n",
       "  'id': '9f261648',\n",
       "  'score': 0.72849506},\n",
       " {'text': 'We won’t re-record the course videos. The focus of the course and the skills we want to teach remained the same, and the videos are still up-to-date.\\nIf you haven’t taken part in the previous iteration, you can start watching the videos. It’ll be useful for you and you will learn new things. However, we recommend using Python 3.10 now instead of Python 3.8.',\n",
       "  'section': 'General course-related questions',\n",
       "  'question': 'The course videos are from the previous iteration. Will you release new ones or we’ll use the videos from 2021?',\n",
       "  'course': 'machine-learning-zoomcamp',\n",
       "  'id': 'e7ba6b8a',\n",
       "  'score': 0.7252791}]"
      ]
     },
     "execution_count": 21,
     "metadata": {},
     "output_type": "execute_result"
    }
   ],
   "execution_count": 21
  },
  {
   "metadata": {},
   "cell_type": "markdown",
   "source": "Q6",
   "id": "5d9a91d067580af7"
  },
  {
   "metadata": {
    "ExecuteTime": {
     "end_time": "2024-07-09T04:31:55.088673Z",
     "start_time": "2024-07-09T04:31:55.084034Z"
    }
   },
   "cell_type": "code",
   "source": [
    "def es_vector_search(q):\n",
    "    v_q = embedding_model.encode(q['question'])\n",
    "    return elastic_search_knn('vector', v_q)"
   ],
   "id": "571fe54915aee5d",
   "outputs": [],
   "execution_count": 22
  },
  {
   "metadata": {
    "ExecuteTime": {
     "end_time": "2024-07-09T04:32:55.276968Z",
     "start_time": "2024-07-09T04:31:55.687526Z"
    }
   },
   "cell_type": "code",
   "source": "print(evaluate(ground_truth, es_vector_search))",
   "id": "b0b25c70b98fab91",
   "outputs": [
    {
     "data": {
      "text/plain": [
       "  0%|          | 0/1830 [00:00<?, ?it/s]"
      ],
      "application/vnd.jupyter.widget-view+json": {
       "version_major": 2,
       "version_minor": 0,
       "model_id": "70359da1027942849e9e77af9da39a3c"
      }
     },
     "metadata": {},
     "output_type": "display_data"
    },
    {
     "name": "stdout",
     "output_type": "stream",
     "text": [
      "{'hit_rate': 0.9398907103825137, 'mrr': 0.8516484517304189}\n"
     ]
    }
   ],
   "execution_count": 23
  },
  {
   "metadata": {},
   "cell_type": "code",
   "outputs": [],
   "execution_count": null,
   "source": "",
   "id": "a8b16faab5e85b5a"
  }
 ],
 "metadata": {
  "kernelspec": {
   "display_name": "Python 3",
   "language": "python",
   "name": "python3"
  },
  "language_info": {
   "codemirror_mode": {
    "name": "ipython",
    "version": 2
   },
   "file_extension": ".py",
   "mimetype": "text/x-python",
   "name": "python",
   "nbconvert_exporter": "python",
   "pygments_lexer": "ipython2",
   "version": "2.7.6"
  }
 },
 "nbformat": 4,
 "nbformat_minor": 5
}
