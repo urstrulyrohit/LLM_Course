{
 "cells": [
  {
   "cell_type": "code",
   "execution_count": 2,
   "id": "c1c195dd-cee0-4545-a837-57a3d05c4b84",
   "metadata": {
    "execution": {
     "iopub.execute_input": "2024-06-30T19:10:13.526514Z",
     "iopub.status.busy": "2024-06-30T19:10:13.526126Z",
     "iopub.status.idle": "2024-06-30T19:10:13.530255Z",
     "shell.execute_reply": "2024-06-30T19:10:13.529419Z",
     "shell.execute_reply.started": "2024-06-30T19:10:13.526485Z"
    },
    "tags": []
   },
   "outputs": [],
   "source": [
    "import os\n",
    "os.environ['HF_HOME'] = '/run/cache/'"
   ]
  },
  {
   "cell_type": "code",
   "execution_count": 3,
   "id": "0c62c068-0c80-44fd-940b-77bb0add3d45",
   "metadata": {
    "execution": {
     "iopub.execute_input": "2024-06-30T19:10:13.829957Z",
     "iopub.status.busy": "2024-06-30T19:10:13.829575Z",
     "iopub.status.idle": "2024-06-30T19:10:14.470439Z",
     "shell.execute_reply": "2024-06-30T19:10:14.469570Z",
     "shell.execute_reply.started": "2024-06-30T19:10:13.829931Z"
    },
    "tags": []
   },
   "outputs": [],
   "source": [
    "!rm -rf /home/jovyan/.cache/huggingface"
   ]
  },
  {
   "cell_type": "code",
   "execution_count": 4,
   "id": "0a3048c8-255c-4f7a-b12f-a043c7504dc3",
   "metadata": {
    "execution": {
     "iopub.execute_input": "2024-06-30T19:10:14.472406Z",
     "iopub.status.busy": "2024-06-30T19:10:14.472055Z",
     "iopub.status.idle": "2024-06-30T19:10:14.478526Z",
     "shell.execute_reply": "2024-06-30T19:10:14.477554Z",
     "shell.execute_reply.started": "2024-06-30T19:10:14.472381Z"
    },
    "tags": []
   },
   "outputs": [],
   "source": [
    "import os\n",
    "import shutil\n",
    "\n",
    "cache_dir = '/run/cache/'\n",
    "\n",
    "# Check if the directory exists\n",
    "if os.path.exists(cache_dir):\n",
    "    # Remove all contents of the directory\n",
    "    for filename in os.listdir(cache_dir):\n",
    "        file_path = os.path.join(cache_dir, filename)\n",
    "        try:\n",
    "            if os.path.isfile(file_path) or os.path.islink(file_path):\n",
    "                os.unlink(file_path)\n",
    "            elif os.path.isdir(file_path):\n",
    "                shutil.rmtree(file_path)\n",
    "        except Exception as e:\n",
    "            print(f'Failed to delete {file_path}. Reason: {e}')"
   ]
  },
  {
   "cell_type": "code",
   "execution_count": 5,
   "id": "bf304cd7-16c9-469d-9095-41d2688e9602",
   "metadata": {
    "execution": {
     "iopub.execute_input": "2024-06-30T19:10:14.480199Z",
     "iopub.status.busy": "2024-06-30T19:10:14.479762Z",
     "iopub.status.idle": "2024-06-30T19:10:15.105070Z",
     "shell.execute_reply": "2024-06-30T19:10:15.104267Z",
     "shell.execute_reply.started": "2024-06-30T19:10:14.480164Z"
    },
    "tags": []
   },
   "outputs": [
    {
     "name": "stdout",
     "output_type": "stream",
     "text": [
      "Filesystem      Size  Used Avail Use% Mounted on\n",
      "overlay         100G   36G   65G  36% /\n",
      "tmpfs            64M     0   64M   0% /dev\n",
      "tmpfs           7.7G     0  7.7G   0% /sys/fs/cgroup\n",
      "/dev/nvme0n1p1  100G   36G   65G  36% /run\n",
      "tmpfs            14G     0   14G   0% /dev/shm\n",
      "/dev/nvme2n1    2.0G  143M  1.8G   8% /home/jovyan\n",
      "tmpfs            14G  120K   14G   1% /home/jovyan/.saturn\n",
      "tmpfs            14G   12K   14G   1% /run/secrets/kubernetes.io/serviceaccount\n",
      "tmpfs           7.7G   12K  7.7G   1% /proc/driver/nvidia\n",
      "tmpfs           7.7G  3.4M  7.7G   1% /run/nvidia-persistenced/socket\n",
      "tmpfs           7.7G     0  7.7G   0% /proc/acpi\n",
      "tmpfs           7.7G     0  7.7G   0% /sys/firmware\n"
     ]
    }
   ],
   "source": [
    "!df -h\n",
    "\n"
   ]
  },
  {
   "cell_type": "code",
   "execution_count": 6,
   "id": "506fab2a-a50c-42bd-a106-c83a9d2828ea",
   "metadata": {
    "execution": {
     "iopub.execute_input": "2024-06-30T19:10:15.107225Z",
     "iopub.status.busy": "2024-06-30T19:10:15.106861Z",
     "iopub.status.idle": "2024-06-30T19:10:16.441869Z",
     "shell.execute_reply": "2024-06-30T19:10:16.441068Z",
     "shell.execute_reply.started": "2024-06-30T19:10:15.107198Z"
    },
    "tags": []
   },
   "outputs": [
    {
     "name": "stdout",
     "output_type": "stream",
     "text": [
      "--2024-06-30 19:10:16--  https://raw.githubusercontent.com/alexeygrigorev/minsearch/main/minsearch.py\n",
      "Resolving raw.githubusercontent.com (raw.githubusercontent.com)... 185.199.110.133, 185.199.109.133, 185.199.108.133, ...\n",
      "Connecting to raw.githubusercontent.com (raw.githubusercontent.com)|185.199.110.133|:443... connected.\n",
      "HTTP request sent, awaiting response... 200 OK\n",
      "Length: 3832 (3.7K) [text/plain]\n",
      "Saving to: ‘minsearch.py’\n",
      "\n",
      "minsearch.py        100%[===================>]   3.74K  --.-KB/s    in 0s      \n",
      "\n",
      "2024-06-30 19:10:16 (74.4 MB/s) - ‘minsearch.py’ saved [3832/3832]\n",
      "\n"
     ]
    }
   ],
   "source": [
    "!rm -f minsearch.py\n",
    "!wget https://raw.githubusercontent.com/alexeygrigorev/minsearch/main/minsearch.py"
   ]
  },
  {
   "cell_type": "code",
   "execution_count": 44,
   "id": "3ac947de-effd-4b61-8792-a6d7a133f347",
   "metadata": {
    "execution": {
     "iopub.execute_input": "2024-06-30T19:21:55.642240Z",
     "iopub.status.busy": "2024-06-30T19:21:55.641846Z",
     "iopub.status.idle": "2024-06-30T19:21:56.110044Z",
     "shell.execute_reply": "2024-06-30T19:21:56.109118Z",
     "shell.execute_reply.started": "2024-06-30T19:21:55.642216Z"
    },
    "tags": []
   },
   "outputs": [
    {
     "data": {
      "text/plain": [
       "<minsearch.Index at 0x7f10d603aee0>"
      ]
     },
     "execution_count": 44,
     "metadata": {},
     "output_type": "execute_result"
    }
   ],
   "source": [
    "import requests \n",
    "import minsearch\n",
    "\n",
    "docs_url = 'https://github.com/DataTalksClub/llm-zoomcamp/blob/main/01-intro/documents.json?raw=1'\n",
    "docs_response = requests.get(docs_url)\n",
    "documents_raw = docs_response.json()\n",
    "\n",
    "documents = []\n",
    "\n",
    "for course in documents_raw:\n",
    "    course_name = course['course']\n",
    "\n",
    "    for doc in course['documents']:\n",
    "        doc['course'] = course_name\n",
    "        documents.append(doc)\n",
    "\n",
    "index = minsearch.Index(\n",
    "    text_fields=[\"question\", \"text\", \"section\"],\n",
    "    keyword_fields=[\"course\"]\n",
    ")\n",
    "\n",
    "index.fit(documents)"
   ]
  },
  {
   "cell_type": "code",
   "execution_count": 43,
   "id": "8f087272-b44d-4738-9ea2-175ec63a058b",
   "metadata": {
    "execution": {
     "iopub.execute_input": "2024-06-30T19:21:53.024907Z",
     "iopub.status.busy": "2024-06-30T19:21:53.024514Z",
     "iopub.status.idle": "2024-06-30T19:21:53.029111Z",
     "shell.execute_reply": "2024-06-30T19:21:53.028307Z",
     "shell.execute_reply.started": "2024-06-30T19:21:53.024881Z"
    },
    "tags": []
   },
   "outputs": [],
   "source": [
    "def search(query):\n",
    "    boost = {'question': 3.0, 'section': 0.5}\n",
    "\n",
    "    results = index.search(\n",
    "        query=query,\n",
    "        filter_dict={'course': 'data-engineering-zoomcamp'},\n",
    "        boost_dict=boost,\n",
    "        num_results=5\n",
    "    )\n",
    "\n",
    "    return results"
   ]
  },
  {
   "cell_type": "code",
   "execution_count": 42,
   "id": "fe8bff3e-b672-42be-866b-f2d9bb217106",
   "metadata": {
    "execution": {
     "iopub.execute_input": "2024-06-30T19:21:50.741857Z",
     "iopub.status.busy": "2024-06-30T19:21:50.741459Z",
     "iopub.status.idle": "2024-06-30T19:21:50.745679Z",
     "shell.execute_reply": "2024-06-30T19:21:50.744988Z",
     "shell.execute_reply.started": "2024-06-30T19:21:50.741832Z"
    },
    "tags": []
   },
   "outputs": [],
   "source": [
    "def rag(query):\n",
    "    search_results = search(query)\n",
    "    prompt = build_prompt(query, search_results)\n",
    "    answer = llm(prompt)\n",
    "    return answer"
   ]
  },
  {
   "cell_type": "code",
   "execution_count": 11,
   "id": "988ece59-951a-4b32-ba3f-cb8efb66a9bb",
   "metadata": {
    "execution": {
     "iopub.execute_input": "2024-06-30T19:10:19.954920Z",
     "iopub.status.busy": "2024-06-30T19:10:19.954532Z",
     "iopub.status.idle": "2024-06-30T19:10:25.601570Z",
     "shell.execute_reply": "2024-06-30T19:10:25.600850Z",
     "shell.execute_reply.started": "2024-06-30T19:10:19.954881Z"
    },
    "tags": []
   },
   "outputs": [],
   "source": [
    "# pip install accelerate\n",
    "from transformers import T5Tokenizer, T5ForConditionalGeneration\n"
   ]
  },
  {
   "cell_type": "code",
   "execution_count": 33,
   "id": "e561698e-1167-4f9b-a9cc-a91803e44447",
   "metadata": {
    "execution": {
     "iopub.execute_input": "2024-06-30T19:18:10.237398Z",
     "iopub.status.busy": "2024-06-30T19:18:10.237021Z",
     "iopub.status.idle": "2024-06-30T19:20:40.896653Z",
     "shell.execute_reply": "2024-06-30T19:20:40.895998Z",
     "shell.execute_reply.started": "2024-06-30T19:18:10.237372Z"
    },
    "tags": []
   },
   "outputs": [
    {
     "data": {
      "application/vnd.jupyter.widget-view+json": {
       "model_id": "b183a5a360914166a9e4d24f86b3d224",
       "version_major": 2,
       "version_minor": 0
      },
      "text/plain": [
       "tokenizer_config.json:   0%|          | 0.00/2.54k [00:00<?, ?B/s]"
      ]
     },
     "metadata": {},
     "output_type": "display_data"
    },
    {
     "data": {
      "application/vnd.jupyter.widget-view+json": {
       "model_id": "69c9417aef54474cbb644e1991d43d47",
       "version_major": 2,
       "version_minor": 0
      },
      "text/plain": [
       "spiece.model:   0%|          | 0.00/792k [00:00<?, ?B/s]"
      ]
     },
     "metadata": {},
     "output_type": "display_data"
    },
    {
     "data": {
      "application/vnd.jupyter.widget-view+json": {
       "model_id": "2ef6e0246d89459f865431cb5e54b416",
       "version_major": 2,
       "version_minor": 0
      },
      "text/plain": [
       "special_tokens_map.json:   0%|          | 0.00/2.20k [00:00<?, ?B/s]"
      ]
     },
     "metadata": {},
     "output_type": "display_data"
    },
    {
     "data": {
      "application/vnd.jupyter.widget-view+json": {
       "model_id": "b952d478925e4dc6b385bd3945c2e5c0",
       "version_major": 2,
       "version_minor": 0
      },
      "text/plain": [
       "tokenizer.json:   0%|          | 0.00/2.42M [00:00<?, ?B/s]"
      ]
     },
     "metadata": {},
     "output_type": "display_data"
    },
    {
     "name": "stderr",
     "output_type": "stream",
     "text": [
      "Special tokens have been added in the vocabulary, make sure the associated word embeddings are fine-tuned or trained.\n"
     ]
    },
    {
     "data": {
      "application/vnd.jupyter.widget-view+json": {
       "model_id": "20f51c6ef7ff4b6bbd3c508e7de028bd",
       "version_major": 2,
       "version_minor": 0
      },
      "text/plain": [
       "config.json:   0%|          | 0.00/1.44k [00:00<?, ?B/s]"
      ]
     },
     "metadata": {},
     "output_type": "display_data"
    },
    {
     "data": {
      "application/vnd.jupyter.widget-view+json": {
       "model_id": "7f30804cb7ec491c89b181f0795b1876",
       "version_major": 2,
       "version_minor": 0
      },
      "text/plain": [
       "model.safetensors.index.json:   0%|          | 0.00/53.0k [00:00<?, ?B/s]"
      ]
     },
     "metadata": {},
     "output_type": "display_data"
    },
    {
     "data": {
      "application/vnd.jupyter.widget-view+json": {
       "model_id": "cf5e85b706ea431999ef4b09cbf427e4",
       "version_major": 2,
       "version_minor": 0
      },
      "text/plain": [
       "Downloading shards:   0%|          | 0/2 [00:00<?, ?it/s]"
      ]
     },
     "metadata": {},
     "output_type": "display_data"
    },
    {
     "data": {
      "application/vnd.jupyter.widget-view+json": {
       "model_id": "9d2dc775adfa4f6a84e77482e090bab2",
       "version_major": 2,
       "version_minor": 0
      },
      "text/plain": [
       "model-00001-of-00002.safetensors:   0%|          | 0.00/9.45G [00:00<?, ?B/s]"
      ]
     },
     "metadata": {},
     "output_type": "display_data"
    },
    {
     "data": {
      "application/vnd.jupyter.widget-view+json": {
       "model_id": "16b0331571e941deb3bac3accd8026fb",
       "version_major": 2,
       "version_minor": 0
      },
      "text/plain": [
       "model-00002-of-00002.safetensors:   0%|          | 0.00/1.95G [00:00<?, ?B/s]"
      ]
     },
     "metadata": {},
     "output_type": "display_data"
    },
    {
     "data": {
      "application/vnd.jupyter.widget-view+json": {
       "model_id": "d2bbc10a1cc94dfb964e0d499103150e",
       "version_major": 2,
       "version_minor": 0
      },
      "text/plain": [
       "Loading checkpoint shards:   0%|          | 0/2 [00:00<?, ?it/s]"
      ]
     },
     "metadata": {},
     "output_type": "display_data"
    },
    {
     "data": {
      "application/vnd.jupyter.widget-view+json": {
       "model_id": "d0af2a8557534b358db736e98c61abc7",
       "version_major": 2,
       "version_minor": 0
      },
      "text/plain": [
       "generation_config.json:   0%|          | 0.00/147 [00:00<?, ?B/s]"
      ]
     },
     "metadata": {},
     "output_type": "display_data"
    }
   ],
   "source": [
    "tokenizer = T5Tokenizer.from_pretrained(\"google/flan-t5-xl\")\n",
    "model = T5ForConditionalGeneration.from_pretrained(\"google/flan-t5-xl\", device_map=\"auto\")\n",
    "\n"
   ]
  },
  {
   "cell_type": "code",
   "execution_count": 45,
   "id": "61f8b21b-f57e-4b4a-bea5-8adb9a5a7b2c",
   "metadata": {
    "execution": {
     "iopub.execute_input": "2024-06-30T19:22:00.281870Z",
     "iopub.status.busy": "2024-06-30T19:22:00.281471Z",
     "iopub.status.idle": "2024-06-30T19:22:00.512880Z",
     "shell.execute_reply": "2024-06-30T19:22:00.512223Z",
     "shell.execute_reply.started": "2024-06-30T19:22:00.281844Z"
    },
    "tags": []
   },
   "outputs": [
    {
     "data": {
      "text/plain": [
       "'<pad> Wie alt sind Sie?</s>'"
      ]
     },
     "execution_count": 45,
     "metadata": {},
     "output_type": "execute_result"
    }
   ],
   "source": [
    "input_text = \"translate English to German: How old are you?\"\n",
    "input_ids = tokenizer(input_text, return_tensors=\"pt\").input_ids.to(\"cuda\")\n",
    "outputs = model.generate(input_ids)\n",
    "result = tokenizer.decode(outputs[0])\n",
    "result\n"
   ]
  },
  {
   "cell_type": "code",
   "execution_count": 50,
   "id": "c7c4352a-23a5-4b3e-88f0-a61cd58d7f40",
   "metadata": {
    "execution": {
     "iopub.execute_input": "2024-06-30T19:23:00.944011Z",
     "iopub.status.busy": "2024-06-30T19:23:00.943608Z",
     "iopub.status.idle": "2024-06-30T19:23:00.949822Z",
     "shell.execute_reply": "2024-06-30T19:23:00.948921Z",
     "shell.execute_reply.started": "2024-06-30T19:23:00.943983Z"
    },
    "tags": []
   },
   "outputs": [],
   "source": [
    "def build_prompt(query, search_results):\n",
    "    prompt_template = \"\"\"\n",
    "You're a course teaching assistant. Answer the QUESTION based on the CONTEXT from the FAQ database.\n",
    "Use only the facts from the CONTEXT when answering the QUESTION.\n",
    "\n",
    "QUESTION: {question}\n",
    "\n",
    "CONTEXT: \n",
    "{context}\n",
    "\"\"\".strip()\n",
    "\n",
    "    context = \"\"\n",
    "    \n",
    "    for doc in search_results:\n",
    "        context = context + f\"section: {doc['section']}\\nquestion: {doc['question']}\\nanswer: {doc['text']}\\n\\n\"\n",
    "    \n",
    "    prompt = prompt_template.format(question=query, context=context).strip()\n",
    "    return prompt\n",
    "\n",
    "def llm(prompt):\n",
    "    input_ids = tokenizer(prompt, return_tensors=\"pt\").input_ids.to(\"cuda\")\n",
    "    outputs = model.generate(input_ids)\n",
    "    result = tokenizer.decode(outputs[0])\n",
    "    return result"
   ]
  },
  {
   "cell_type": "code",
   "execution_count": 53,
   "id": "da6de0b0-38b3-4c99-a560-a78251f9b475",
   "metadata": {
    "execution": {
     "iopub.execute_input": "2024-06-30T19:24:45.890927Z",
     "iopub.status.busy": "2024-06-30T19:24:45.890533Z",
     "iopub.status.idle": "2024-06-30T19:24:45.896271Z",
     "shell.execute_reply": "2024-06-30T19:24:45.895542Z",
     "shell.execute_reply.started": "2024-06-30T19:24:45.890902Z"
    },
    "tags": []
   },
   "outputs": [],
   "source": [
    "def llm(prompt, generate_params=None):\n",
    "    if generate_params is None:\n",
    "        generate_params = {}\n",
    "\n",
    "    input_ids = tokenizer(prompt, return_tensors=\"pt\").input_ids.to(\"cuda\")\n",
    "    outputs = model.generate(\n",
    "        input_ids,\n",
    "        max_length=generate_params.get(\"max_length\", 100),\n",
    "        num_beams=generate_params.get(\"num_beams\", 5),\n",
    "        do_sample=generate_params.get(\"do_sample\", False),\n",
    "        temperature=generate_params.get(\"temperature\", 1.0),\n",
    "        top_k=generate_params.get(\"top_k\", 50),\n",
    "        top_p=generate_params.get(\"top_p\", 0.95),\n",
    "    )\n",
    "    result = tokenizer.decode(outputs[0], skip_special_tokens=True)\n",
    "    return result"
   ]
  },
  {
   "cell_type": "code",
   "execution_count": 54,
   "id": "573929da-1718-4443-bf59-6928d41cbb0d",
   "metadata": {
    "execution": {
     "iopub.execute_input": "2024-06-30T19:24:46.526483Z",
     "iopub.status.busy": "2024-06-30T19:24:46.526088Z",
     "iopub.status.idle": "2024-06-30T19:24:50.220020Z",
     "shell.execute_reply": "2024-06-30T19:24:50.219328Z",
     "shell.execute_reply.started": "2024-06-30T19:24:46.526458Z"
    },
    "tags": []
   },
   "outputs": [
    {
     "name": "stderr",
     "output_type": "stream",
     "text": [
      "/opt/saturncloud/envs/saturn/lib/python3.9/site-packages/transformers/generation/configuration_utils.py:545: UserWarning: `do_sample` is set to `False`. However, `top_p` is set to `0.95` -- this flag is only used in sample-based generation modes. You should set `do_sample=True` or unset `top_p`.\n",
      "  warnings.warn(\n"
     ]
    }
   ],
   "source": [
    "llm_answer = rag(\"I just discovered the course, Can i still join ?\")"
   ]
  },
  {
   "cell_type": "code",
   "execution_count": 55,
   "id": "dd450f40-2e32-469b-baee-4902fa18b3cd",
   "metadata": {
    "execution": {
     "iopub.execute_input": "2024-06-30T19:24:50.221631Z",
     "iopub.status.busy": "2024-06-30T19:24:50.221264Z",
     "iopub.status.idle": "2024-06-30T19:24:50.226776Z",
     "shell.execute_reply": "2024-06-30T19:24:50.226024Z",
     "shell.execute_reply.started": "2024-06-30T19:24:50.221607Z"
    },
    "tags": []
   },
   "outputs": [
    {
     "data": {
      "text/plain": [
       "\"Yes, even if you don't register, you're still eligible to submit the homeworks. Be aware, however, that there will be deadlines for turning in the final projects. So don't leave everything for the last minute.\""
      ]
     },
     "execution_count": 55,
     "metadata": {},
     "output_type": "execute_result"
    }
   ],
   "source": [
    "llm_answer"
   ]
  },
  {
   "cell_type": "code",
   "execution_count": null,
   "id": "6a65f217-5730-4b2a-b02b-ea23dba96774",
   "metadata": {},
   "outputs": [],
   "source": []
  }
 ],
 "metadata": {
  "kernelspec": {
   "display_name": "saturn (Python 3)",
   "language": "python",
   "name": "python3"
  },
  "language_info": {
   "codemirror_mode": {
    "name": "ipython",
    "version": 3
   },
   "file_extension": ".py",
   "mimetype": "text/x-python",
   "name": "python",
   "nbconvert_exporter": "python",
   "pygments_lexer": "ipython3",
   "version": "3.9.18"
  }
 },
 "nbformat": 4,
 "nbformat_minor": 5
}
